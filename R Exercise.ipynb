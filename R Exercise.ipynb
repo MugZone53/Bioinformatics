{
 "cells": [
  {
   "cell_type": "markdown",
   "metadata": {},
   "source": [
    "# R Exercise"
   ]
  },
  {
   "cell_type": "markdown",
   "metadata": {},
   "source": [
    "**1. Write a R program to take a string as input from the user and print it in upper case characters.** "
   ]
  },
  {
   "cell_type": "code",
   "execution_count": null,
   "metadata": {
    "scrolled": true
   },
   "outputs": [],
   "source": [
    "S <- \"hello\"\n",
    "S <- toupper(S)\n",
    "S"
   ]
  },
  {
   "cell_type": "markdown",
   "metadata": {},
   "source": [
    "**2. Write a R program to calculate the common elements in two lists. Also print the number.**"
   ]
  },
  {
   "cell_type": "code",
   "execution_count": null,
   "metadata": {},
   "outputs": [],
   "source": [
    "x <- c(45, 3, 84, 11, 25, 26)\n",
    "y <- c(22, 84, 12, 3, 27, 15)\n",
    "z <- x[ x %in% y]\n",
    "length(z)"
   ]
  },
  {
   "cell_type": "markdown",
   "metadata": {},
   "source": [
    "**3. Write a R program to create a random sequence of numbers, and find the mean, median, and mode for them.**"
   ]
  },
  {
   "cell_type": "code",
   "execution_count": null,
   "metadata": {},
   "outputs": [],
   "source": [
    "x <- c(rnorm(10, mean=5, sd=1))\n",
    "summary(x)\n",
    "mean(x)\n",
    "median(x)\n",
    "mode(x)"
   ]
  },
  {
   "cell_type": "markdown",
   "metadata": {},
   "source": [
    "**4. Write a R program to input a number from the user and check if it is a prime number or not.**"
   ]
  },
  {
   "cell_type": "code",
   "execution_count": null,
   "metadata": {},
   "outputs": [],
   "source": [
    "y <- 53\n",
    "z <- floor(sqrt(y))\n",
    "ifelse((y==1 | y== 2 | y== 3), \"TRUE\", ifelse(0 %in% c( y %% c(2:z)), \"FALSE\", \"TRUE\"))"
   ]
  },
  {
   "cell_type": "markdown",
   "metadata": {},
   "source": [
    "**5. Write a R program to print in triplets a sequence of characters. It could be supplied manually or by the user.**"
   ]
  },
  {
   "cell_type": "code",
   "execution_count": null,
   "metadata": {},
   "outputs": [],
   "source": [
    "seq <- \"ATTCGGTCGAGCTGATCGATGGCTCGGATC\"\n",
    "x <- nchar(seq)\n",
    "n <- x %/% 3\n",
    "tri <- as.character()\n",
    "for (i in 1:n) tri <- c(tri, substr(seq, 3*i-2, 3*i))\n",
    "tri"
   ]
  },
  {
   "cell_type": "markdown",
   "metadata": {},
   "source": [
    "**6. Write a R program to find the factors of a given number.** "
   ]
  },
  {
   "cell_type": "code",
   "execution_count": null,
   "metadata": {},
   "outputs": [],
   "source": [
    "x <- 100\n",
    "while (x >1) { for (i in 2:x) {if (x %% i == 0) {print(i); x <- x %/% i; break}}}"
   ]
  },
  {
   "cell_type": "markdown",
   "metadata": {},
   "source": [
    "**7. Write a R program to find the maximum and minimum values of a given vector.** "
   ]
  },
  {
   "cell_type": "code",
   "execution_count": null,
   "metadata": {},
   "outputs": [],
   "source": [
    "x <- c(rnorm(10, 5, 1))\n",
    "max(x)\n",
    "min(x)"
   ]
  },
  {
   "cell_type": "markdown",
   "metadata": {},
   "source": [
    "**8. Write a R program to get the count of blank spaces in a sentence input by the user.**"
   ]
  },
  {
   "cell_type": "code",
   "execution_count": null,
   "metadata": {},
   "outputs": [],
   "source": [
    "x <- \"Interpersonal relationships are one of the most important foundations of all human behaviors.\"\n",
    "y <- strsplit(x,\"\")\n",
    "z <- grep(\"\\\\s\", y[[1]], fixed = FALSE)\n",
    "length(z)"
   ]
  },
  {
   "cell_type": "markdown",
   "metadata": {},
   "source": [
    "**9. Write a R program to create a box plot for a given age distribution for two groups. For reference, create a sample of 10 age inputs for men and women (say) and plot them to find the attributes of a box plot.** "
   ]
  },
  {
   "cell_type": "code",
   "execution_count": null,
   "metadata": {},
   "outputs": [],
   "source": [
    "men <- c(35, 36, 37, 35, 40, 42, 38, 34, 30, 33)\n",
    "women <- c(32, 31, 28, 32, 33, 31, 26, 27, 30, 30)\n",
    "boxplot(men, women, main=\" Age distribution\", names = c(\"Men\", \"Women\"))"
   ]
  },
  {
   "cell_type": "markdown",
   "metadata": {},
   "source": [
    "**10. Write a R program to read an excel file and display the content.**"
   ]
  },
  {
   "cell_type": "code",
   "execution_count": null,
   "metadata": {},
   "outputs": [],
   "source": [
    "ID <- c(1000,1001,1002,1003)\n",
    "gender <- c(\"m\",\"f\",\"f\",\"m\")\n",
    "grades <- c(90,90,80,80)\n",
    "x <- data.frame(ID, gender, grades)\n",
    "write.csv(x, file=\"data.csv\")\n",
    "read.csv(\"data.csv\")"
   ]
  },
  {
   "cell_type": "markdown",
   "metadata": {},
   "source": [
    "**11. Write a R program to create a bar plot for student marks in a subject. Consider a basic data-frame with student name and marks, for 10 students. Annotate the plot with appropriate main label and axes labels.**"
   ]
  },
  {
   "cell_type": "code",
   "execution_count": null,
   "metadata": {},
   "outputs": [],
   "source": [
    "students <- paste(\"X\",c(1:10),sep = \"\")\n",
    "marks <- c(\"A\", \"B\", \"B\", \"C\", \"A\", \"A\", \"B\", \"C\", \"C\", \"A\")\n",
    "bar <- data.frame(students, marks, stringsAsFactors = FALSE)\n",
    "markscount <- table(bar$marks)\n",
    "barplot(markscount, main=\"Barplot of Students' Marks\", ylab=\"Counts\")"
   ]
  }
 ],
 "metadata": {
  "kernelspec": {
   "display_name": "R",
   "language": "R",
   "name": "ir"
  },
  "language_info": {
   "codemirror_mode": "r",
   "file_extension": ".r",
   "mimetype": "text/x-r-source",
   "name": "R",
   "pygments_lexer": "r",
   "version": "3.6.0"
  }
 },
 "nbformat": 4,
 "nbformat_minor": 4
}
