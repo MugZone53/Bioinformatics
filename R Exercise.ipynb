{
 "cells": [
  {
   "cell_type": "markdown",
   "metadata": {},
   "source": [
    "# R Exercise"
   ]
  },
  {
   "cell_type": "markdown",
   "metadata": {},
   "source": [
    "**1. Write a R program to take a string as input from the user and print it in upper case characters.** "
   ]
  },
  {
   "cell_type": "code",
   "execution_count": 1,
   "metadata": {
    "scrolled": true
   },
   "outputs": [
    {
     "name": "stdout",
     "output_type": "stream",
     "text": [
      "Hello\n",
      "[1] \"HELLO\"\n"
     ]
    }
   ],
   "source": [
    "S <- readline()\n",
    "S <- toupper(S)\n",
    "print(S)"
   ]
  },
  {
   "cell_type": "markdown",
   "metadata": {},
   "source": [
    "**2. Write a R program to calculate the common elements in two lists. Also print the number.**"
   ]
  },
  {
   "cell_type": "code",
   "execution_count": 43,
   "metadata": {
    "scrolled": true
   },
   "outputs": [
    {
     "data": {
      "text/html": [
       "2"
      ],
      "text/latex": [
       "2"
      ],
      "text/markdown": [
       "2"
      ],
      "text/plain": [
       "[1] 2"
      ]
     },
     "metadata": {},
     "output_type": "display_data"
    }
   ],
   "source": [
    "x <- c(45, 3, 84, 11, 25, 26)\n",
    "y <- c(22, 84, 12, 3, 27, 15)\n",
    "z <- duplicated(c(x,y))\n",
    "length(z[z==TRUE])"
   ]
  },
  {
   "cell_type": "markdown",
   "metadata": {},
   "source": [
    "**3. Write a R program to create a random sequence of numbers, and find the mean, median, and mode for them.**"
   ]
  },
  {
   "cell_type": "code",
   "execution_count": 56,
   "metadata": {},
   "outputs": [
    {
     "name": "stdout",
     "output_type": "stream",
     "text": [
      "  [1]  88  84  51  84  75  54  54  52  75  98  53  84  77  59  72  57  93  95\n",
      " [19]  83  56  95  86  82  91  87  84  77  60  95  98  66  52  84  72  55  78\n",
      " [37]  80  68  76  86  54  71  68  85  51  93  57  98  82  59  75  71  98  94\n",
      " [55]  66  75  73  73  65  69  80 100  77  78  92  75  94  75 100  75  86  74\n",
      " [73]  55  51  84 100  85  60  51  54  90  98  63  65  53  97  65 100  54  81\n",
      " [91]  84  96  79  94  90  61  51  91  87  70\n"
     ]
    },
    {
     "data": {
      "text/html": [
       "76.08"
      ],
      "text/latex": [
       "76.08"
      ],
      "text/markdown": [
       "76.08"
      ],
      "text/plain": [
       "[1] 76.08"
      ]
     },
     "metadata": {},
     "output_type": "display_data"
    },
    {
     "data": {
      "text/html": [
       "77"
      ],
      "text/latex": [
       "77"
      ],
      "text/markdown": [
       "77"
      ],
      "text/plain": [
       "[1] 77"
      ]
     },
     "metadata": {},
     "output_type": "display_data"
    },
    {
     "name": "stdout",
     "output_type": "stream",
     "text": [
      "x\n",
      "75 84 \n",
      " 7  7 \n"
     ]
    }
   ],
   "source": [
    "x <- c(ceiling(runif(100, min=50, max=100)))\n",
    "print(x)\n",
    "mean(x)\n",
    "median(x)\n",
    "y <- table(x)\n",
    "y.max <- max(table(x))\n",
    "mode <- y[y == y.max]\n",
    "print(mode)"
   ]
  },
  {
   "cell_type": "markdown",
   "metadata": {},
   "source": [
    "**4. Write a R program to input a number from the user and check if it is a prime number or not.**"
   ]
  },
  {
   "cell_type": "code",
   "execution_count": 21,
   "metadata": {},
   "outputs": [
    {
     "name": "stdout",
     "output_type": "stream",
     "text": [
      "53\n"
     ]
    },
    {
     "data": {
      "text/html": [
       "'TRUE'"
      ],
      "text/latex": [
       "'TRUE'"
      ],
      "text/markdown": [
       "'TRUE'"
      ],
      "text/plain": [
       "[1] \"TRUE\""
      ]
     },
     "metadata": {},
     "output_type": "display_data"
    }
   ],
   "source": [
    "y <- as.numeric(readline())\n",
    "z <- floor(sqrt(y)) \n",
    "ifelse((y==1 | y== 2 | y== 3), \"TRUE\", ifelse(0 %in% c( y %% c(2:z)), \"FALSE\", \"TRUE\"))\n",
    "# If y was 1, 2, or 3, it would be a prime number.\n",
    "# If y wasn't 1, 2, or 3, however it could be divided by any integer from 2 to sqrt(y), it would still be a prime number. "
   ]
  },
  {
   "cell_type": "markdown",
   "metadata": {},
   "source": [
    "**5. Write a R program to print in triplets a sequence of characters. It could be supplied manually or by the user.**"
   ]
  },
  {
   "cell_type": "code",
   "execution_count": 23,
   "metadata": {},
   "outputs": [
    {
     "name": "stdout",
     "output_type": "stream",
     "text": [
      " [1] \"ATT\" \"CGG\" \"TCG\" \"AGC\" \"TGA\" \"TCG\" \"ATG\" \"GCT\" \"CGG\" \"ATC\"\n"
     ]
    }
   ],
   "source": [
    "seq <- \"ATTCGGTCGAGCTGATCGATGGCTCGGATC\"\n",
    "x <- nchar(seq) # calculate the length of characters in seq\n",
    "n <- x %/% 3\n",
    "tri <- as.character()\n",
    "for (i in 1:n) tri <- c(tri, substr(seq, 3*i-2, 3*i)) # add the triplets in tri one by one\n",
    "print(tri)"
   ]
  },
  {
   "cell_type": "markdown",
   "metadata": {},
   "source": [
    "**6. Write a R program to find the factors of a given number.** "
   ]
  },
  {
   "cell_type": "code",
   "execution_count": 25,
   "metadata": {},
   "outputs": [
    {
     "name": "stdout",
     "output_type": "stream",
     "text": [
      "150\n",
      "[1] 2\n",
      "[1] 3\n",
      "[1] 5\n",
      "[1] 5\n"
     ]
    }
   ],
   "source": [
    "x <- as.numeric(readline())\n",
    "while (x >1) { for (i in 2:x) {if (x %% i == 0) {print(i); x <- x %/% i; break}}}"
   ]
  },
  {
   "cell_type": "markdown",
   "metadata": {},
   "source": [
    "**7. Write a R program to find the maximum and minimum values of a given vector.** "
   ]
  },
  {
   "cell_type": "code",
   "execution_count": 7,
   "metadata": {},
   "outputs": [
    {
     "data": {
      "text/html": [
       "6.99336967347682"
      ],
      "text/latex": [
       "6.99336967347682"
      ],
      "text/markdown": [
       "6.99336967347682"
      ],
      "text/plain": [
       "[1] 6.99337"
      ]
     },
     "metadata": {},
     "output_type": "display_data"
    },
    {
     "data": {
      "text/html": [
       "2.98573385151998"
      ],
      "text/latex": [
       "2.98573385151998"
      ],
      "text/markdown": [
       "2.98573385151998"
      ],
      "text/plain": [
       "[1] 2.985734"
      ]
     },
     "metadata": {},
     "output_type": "display_data"
    }
   ],
   "source": [
    "x <- c(rnorm(10, 5, 1))\n",
    "max(x)\n",
    "min(x)"
   ]
  },
  {
   "cell_type": "markdown",
   "metadata": {},
   "source": [
    "**8. Write a R program to get the count of blank spaces in a sentence input by the user.**"
   ]
  },
  {
   "cell_type": "code",
   "execution_count": 26,
   "metadata": {},
   "outputs": [
    {
     "data": {
      "text/html": [
       "12"
      ],
      "text/latex": [
       "12"
      ],
      "text/markdown": [
       "12"
      ],
      "text/plain": [
       "[1] 12"
      ]
     },
     "metadata": {},
     "output_type": "display_data"
    }
   ],
   "source": [
    "x <- \"Interpersonal relationships are one of the most important foundations of all human behaviors.\"\n",
    "y <- strsplit(x,\"\") # split the string into single characters\n",
    "z <- grep(\"\\\\s\", y[[1]], fixed = FALSE) # find out each locations of the blank spaces in y\n",
    "length(z) # count the blank spaces"
   ]
  },
  {
   "cell_type": "markdown",
   "metadata": {},
   "source": [
    "**9. Write a R program to create a box plot for a given age distribution for two groups. For reference, create a sample of 10 age inputs for men and women (say) and plot them to find the attributes of a box plot.** "
   ]
  },
  {
   "cell_type": "code",
   "execution_count": 27,
   "metadata": {},
   "outputs": [
    {
     "data": {
      "image/png": "[encoded data removed]",
      "text/plain": [
       "Plot with title “ Age distribution”"
      ]
     },
     "metadata": {
      "image/png": {
       "height": 420,
       "width": 420
      }
     },
     "output_type": "display_data"
    }
   ],
   "source": [
    "men <- c(35, 36, 37, 35, 40, 42, 38, 34, 30, 33)\n",
    "women <- c(32, 31, 28, 32, 33, 31, 26, 27, 30, 30)\n",
    "boxplot(men, women, main=\" Age distribution\", names = c(\"Men\", \"Women\"))\n",
    "# bold lines represent medians\n",
    "# top and bottom lines represent maximums and minimums\n",
    "# top and bottom side lines of the squares represent 75% and 25% quartiles"
   ]
  },
  {
   "cell_type": "markdown",
   "metadata": {},
   "source": [
    "**10. Write a R program to read an excel file and display the content.**"
   ]
  },
  {
   "cell_type": "code",
   "execution_count": 31,
   "metadata": {},
   "outputs": [
    {
     "name": "stdout",
     "output_type": "stream",
     "text": [
      "  X   ID gender grades\n",
      "1 1 1000      m     90\n",
      "2 2 1001      f     90\n",
      "3 3 1002      f     80\n",
      "4 4 1003      m     80\n"
     ]
    }
   ],
   "source": [
    "ID <- c(1000,1001,1002,1003)\n",
    "gender <- c(\"m\",\"f\",\"f\",\"m\")\n",
    "grades <- c(90,90,80,80)\n",
    "x <- data.frame(ID, gender, grades)\n",
    "write.csv(x, file=\"data.csv\")\n",
    "table <- read.csv(\"data.csv\")\n",
    "print(table)"
   ]
  },
  {
   "cell_type": "markdown",
   "metadata": {},
   "source": [
    "**11. Write a R program to create a bar plot for student marks in a subject. Consider a basic data-frame with student name and marks, for 10 students. Annotate the plot with appropriate main label and axes labels.**"
   ]
  },
  {
   "cell_type": "code",
   "execution_count": 11,
   "metadata": {},
   "outputs": [
    {
     "data": {
      "image/png": "[encoded data removed]",
      "text/plain": [
       "Plot with title “Barplot of Students' Marks”"
      ]
     },
     "metadata": {
      "image/png": {
       "height": 420,
       "width": 420
      }
     },
     "output_type": "display_data"
    }
   ],
   "source": [
    "students <- paste(\"X\",c(1:10),sep = \"\")\n",
    "marks <- c(\"A\", \"B\", \"B\", \"C\", \"A\", \"A\", \"B\", \"C\", \"C\", \"A\")\n",
    "bar <- data.frame(students, marks, stringsAsFactors = FALSE)\n",
    "markscount <- table(bar$marks)\n",
    "barplot(markscount, main=\"Barplot of Students' Marks\", ylab=\"Counts\")"
   ]
  },
  {
   "cell_type": "code",
   "execution_count": null,
   "metadata": {},
   "outputs": [],
   "source": []
  }
 ],
 "metadata": {
  "kernelspec": {
   "display_name": "R",
   "language": "R",
   "name": "ir"
  },
  "language_info": {
   "codemirror_mode": "r",
   "file_extension": ".r",
   "mimetype": "text/x-r-source",
   "name": "R",
   "pygments_lexer": "r",
   "version": "3.6.0"
  }
 },
 "nbformat": 4,
 "nbformat_minor": 4
}
